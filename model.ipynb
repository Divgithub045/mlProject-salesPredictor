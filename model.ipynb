{
  "cells": [
    {
      "cell_type": "markdown",
      "id": "6044c869",
      "metadata": {
        "id": "6044c869"
      },
      "source": [
        "__Sales Predictor__"
      ]
    },
    {
      "cell_type": "markdown",
      "id": "681fe6ac",
      "metadata": {
        "id": "681fe6ac"
      },
      "source": [
        "Raw Data"
      ]
    },
    {
      "cell_type": "code",
      "execution_count": 1,
      "id": "4779ac43",
      "metadata": {
        "id": "4779ac43"
      },
      "outputs": [],
      "source": [
        "import pandas as pd\n",
        "import numpy as np"
      ]
    },
    {
      "cell_type": "code",
      "execution_count": 3,
      "id": "8f49028c",
      "metadata": {
        "id": "8f49028c",
        "outputId": "4747c157-e9a6-4580-a7c3-4a6865116539",
        "colab": {
          "base_uri": "https://localhost:8080/",
          "height": 373
        }
      },
      "outputs": [
        {
          "output_type": "error",
          "ename": "FileNotFoundError",
          "evalue": "[Errno 2] No such file or directory: 'stores.csv'",
          "traceback": [
            "\u001b[0;31m---------------------------------------------------------------------------\u001b[0m",
            "\u001b[0;31mFileNotFoundError\u001b[0m                         Traceback (most recent call last)",
            "\u001b[0;32m<ipython-input-3-6fb89ab32d36>\u001b[0m in \u001b[0;36m<cell line: 0>\u001b[0;34m()\u001b[0m\n\u001b[0;32m----> 1\u001b[0;31m \u001b[0mdf_stores\u001b[0m \u001b[0;34m=\u001b[0m \u001b[0mpd\u001b[0m\u001b[0;34m.\u001b[0m\u001b[0mread_csv\u001b[0m\u001b[0;34m(\u001b[0m\u001b[0;34m\"stores.csv\"\u001b[0m\u001b[0;34m)\u001b[0m\u001b[0;34m\u001b[0m\u001b[0;34m\u001b[0m\u001b[0m\n\u001b[0m\u001b[1;32m      2\u001b[0m \u001b[0mdf_oil\u001b[0m \u001b[0;34m=\u001b[0m \u001b[0mpd\u001b[0m\u001b[0;34m.\u001b[0m\u001b[0mread_csv\u001b[0m\u001b[0;34m(\u001b[0m\u001b[0;34m\"oil.csv\"\u001b[0m\u001b[0;34m)\u001b[0m\u001b[0;34m\u001b[0m\u001b[0;34m\u001b[0m\u001b[0m\n\u001b[1;32m      3\u001b[0m \u001b[0mdf_txn\u001b[0m \u001b[0;34m=\u001b[0m \u001b[0mpd\u001b[0m\u001b[0;34m.\u001b[0m\u001b[0mread_csv\u001b[0m\u001b[0;34m(\u001b[0m\u001b[0;34m\"transactions.csv\"\u001b[0m\u001b[0;34m)\u001b[0m\u001b[0;34m\u001b[0m\u001b[0;34m\u001b[0m\u001b[0m\n\u001b[1;32m      4\u001b[0m \u001b[0mdf_train\u001b[0m \u001b[0;34m=\u001b[0m \u001b[0mpd\u001b[0m\u001b[0;34m.\u001b[0m\u001b[0mread_csv\u001b[0m\u001b[0;34m(\u001b[0m\u001b[0;34m\"train.csv\"\u001b[0m\u001b[0;34m)\u001b[0m\u001b[0;34m\u001b[0m\u001b[0;34m\u001b[0m\u001b[0m\n\u001b[1;32m      5\u001b[0m \u001b[0mdf_holidays\u001b[0m \u001b[0;34m=\u001b[0m \u001b[0mpd\u001b[0m\u001b[0;34m.\u001b[0m\u001b[0mread_csv\u001b[0m\u001b[0;34m(\u001b[0m\u001b[0;34m\"holidays_events.csv\"\u001b[0m\u001b[0;34m)\u001b[0m\u001b[0;34m\u001b[0m\u001b[0;34m\u001b[0m\u001b[0m\n",
            "\u001b[0;32m/usr/local/lib/python3.11/dist-packages/pandas/io/parsers/readers.py\u001b[0m in \u001b[0;36mread_csv\u001b[0;34m(filepath_or_buffer, sep, delimiter, header, names, index_col, usecols, dtype, engine, converters, true_values, false_values, skipinitialspace, skiprows, skipfooter, nrows, na_values, keep_default_na, na_filter, verbose, skip_blank_lines, parse_dates, infer_datetime_format, keep_date_col, date_parser, date_format, dayfirst, cache_dates, iterator, chunksize, compression, thousands, decimal, lineterminator, quotechar, quoting, doublequote, escapechar, comment, encoding, encoding_errors, dialect, on_bad_lines, delim_whitespace, low_memory, memory_map, float_precision, storage_options, dtype_backend)\u001b[0m\n\u001b[1;32m   1024\u001b[0m     \u001b[0mkwds\u001b[0m\u001b[0;34m.\u001b[0m\u001b[0mupdate\u001b[0m\u001b[0;34m(\u001b[0m\u001b[0mkwds_defaults\u001b[0m\u001b[0;34m)\u001b[0m\u001b[0;34m\u001b[0m\u001b[0;34m\u001b[0m\u001b[0m\n\u001b[1;32m   1025\u001b[0m \u001b[0;34m\u001b[0m\u001b[0m\n\u001b[0;32m-> 1026\u001b[0;31m     \u001b[0;32mreturn\u001b[0m \u001b[0m_read\u001b[0m\u001b[0;34m(\u001b[0m\u001b[0mfilepath_or_buffer\u001b[0m\u001b[0;34m,\u001b[0m \u001b[0mkwds\u001b[0m\u001b[0;34m)\u001b[0m\u001b[0;34m\u001b[0m\u001b[0;34m\u001b[0m\u001b[0m\n\u001b[0m\u001b[1;32m   1027\u001b[0m \u001b[0;34m\u001b[0m\u001b[0m\n\u001b[1;32m   1028\u001b[0m \u001b[0;34m\u001b[0m\u001b[0m\n",
            "\u001b[0;32m/usr/local/lib/python3.11/dist-packages/pandas/io/parsers/readers.py\u001b[0m in \u001b[0;36m_read\u001b[0;34m(filepath_or_buffer, kwds)\u001b[0m\n\u001b[1;32m    618\u001b[0m \u001b[0;34m\u001b[0m\u001b[0m\n\u001b[1;32m    619\u001b[0m     \u001b[0;31m# Create the parser.\u001b[0m\u001b[0;34m\u001b[0m\u001b[0;34m\u001b[0m\u001b[0m\n\u001b[0;32m--> 620\u001b[0;31m     \u001b[0mparser\u001b[0m \u001b[0;34m=\u001b[0m \u001b[0mTextFileReader\u001b[0m\u001b[0;34m(\u001b[0m\u001b[0mfilepath_or_buffer\u001b[0m\u001b[0;34m,\u001b[0m \u001b[0;34m**\u001b[0m\u001b[0mkwds\u001b[0m\u001b[0;34m)\u001b[0m\u001b[0;34m\u001b[0m\u001b[0;34m\u001b[0m\u001b[0m\n\u001b[0m\u001b[1;32m    621\u001b[0m \u001b[0;34m\u001b[0m\u001b[0m\n\u001b[1;32m    622\u001b[0m     \u001b[0;32mif\u001b[0m \u001b[0mchunksize\u001b[0m \u001b[0;32mor\u001b[0m \u001b[0miterator\u001b[0m\u001b[0;34m:\u001b[0m\u001b[0;34m\u001b[0m\u001b[0;34m\u001b[0m\u001b[0m\n",
            "\u001b[0;32m/usr/local/lib/python3.11/dist-packages/pandas/io/parsers/readers.py\u001b[0m in \u001b[0;36m__init__\u001b[0;34m(self, f, engine, **kwds)\u001b[0m\n\u001b[1;32m   1618\u001b[0m \u001b[0;34m\u001b[0m\u001b[0m\n\u001b[1;32m   1619\u001b[0m         \u001b[0mself\u001b[0m\u001b[0;34m.\u001b[0m\u001b[0mhandles\u001b[0m\u001b[0;34m:\u001b[0m \u001b[0mIOHandles\u001b[0m \u001b[0;34m|\u001b[0m \u001b[0;32mNone\u001b[0m \u001b[0;34m=\u001b[0m \u001b[0;32mNone\u001b[0m\u001b[0;34m\u001b[0m\u001b[0;34m\u001b[0m\u001b[0m\n\u001b[0;32m-> 1620\u001b[0;31m         \u001b[0mself\u001b[0m\u001b[0;34m.\u001b[0m\u001b[0m_engine\u001b[0m \u001b[0;34m=\u001b[0m \u001b[0mself\u001b[0m\u001b[0;34m.\u001b[0m\u001b[0m_make_engine\u001b[0m\u001b[0;34m(\u001b[0m\u001b[0mf\u001b[0m\u001b[0;34m,\u001b[0m \u001b[0mself\u001b[0m\u001b[0;34m.\u001b[0m\u001b[0mengine\u001b[0m\u001b[0;34m)\u001b[0m\u001b[0;34m\u001b[0m\u001b[0;34m\u001b[0m\u001b[0m\n\u001b[0m\u001b[1;32m   1621\u001b[0m \u001b[0;34m\u001b[0m\u001b[0m\n\u001b[1;32m   1622\u001b[0m     \u001b[0;32mdef\u001b[0m \u001b[0mclose\u001b[0m\u001b[0;34m(\u001b[0m\u001b[0mself\u001b[0m\u001b[0;34m)\u001b[0m \u001b[0;34m->\u001b[0m \u001b[0;32mNone\u001b[0m\u001b[0;34m:\u001b[0m\u001b[0;34m\u001b[0m\u001b[0;34m\u001b[0m\u001b[0m\n",
            "\u001b[0;32m/usr/local/lib/python3.11/dist-packages/pandas/io/parsers/readers.py\u001b[0m in \u001b[0;36m_make_engine\u001b[0;34m(self, f, engine)\u001b[0m\n\u001b[1;32m   1878\u001b[0m                 \u001b[0;32mif\u001b[0m \u001b[0;34m\"b\"\u001b[0m \u001b[0;32mnot\u001b[0m \u001b[0;32min\u001b[0m \u001b[0mmode\u001b[0m\u001b[0;34m:\u001b[0m\u001b[0;34m\u001b[0m\u001b[0;34m\u001b[0m\u001b[0m\n\u001b[1;32m   1879\u001b[0m                     \u001b[0mmode\u001b[0m \u001b[0;34m+=\u001b[0m \u001b[0;34m\"b\"\u001b[0m\u001b[0;34m\u001b[0m\u001b[0;34m\u001b[0m\u001b[0m\n\u001b[0;32m-> 1880\u001b[0;31m             self.handles = get_handle(\n\u001b[0m\u001b[1;32m   1881\u001b[0m                 \u001b[0mf\u001b[0m\u001b[0;34m,\u001b[0m\u001b[0;34m\u001b[0m\u001b[0;34m\u001b[0m\u001b[0m\n\u001b[1;32m   1882\u001b[0m                 \u001b[0mmode\u001b[0m\u001b[0;34m,\u001b[0m\u001b[0;34m\u001b[0m\u001b[0;34m\u001b[0m\u001b[0m\n",
            "\u001b[0;32m/usr/local/lib/python3.11/dist-packages/pandas/io/common.py\u001b[0m in \u001b[0;36mget_handle\u001b[0;34m(path_or_buf, mode, encoding, compression, memory_map, is_text, errors, storage_options)\u001b[0m\n\u001b[1;32m    871\u001b[0m         \u001b[0;32mif\u001b[0m \u001b[0mioargs\u001b[0m\u001b[0;34m.\u001b[0m\u001b[0mencoding\u001b[0m \u001b[0;32mand\u001b[0m \u001b[0;34m\"b\"\u001b[0m \u001b[0;32mnot\u001b[0m \u001b[0;32min\u001b[0m \u001b[0mioargs\u001b[0m\u001b[0;34m.\u001b[0m\u001b[0mmode\u001b[0m\u001b[0;34m:\u001b[0m\u001b[0;34m\u001b[0m\u001b[0;34m\u001b[0m\u001b[0m\n\u001b[1;32m    872\u001b[0m             \u001b[0;31m# Encoding\u001b[0m\u001b[0;34m\u001b[0m\u001b[0;34m\u001b[0m\u001b[0m\n\u001b[0;32m--> 873\u001b[0;31m             handle = open(\n\u001b[0m\u001b[1;32m    874\u001b[0m                 \u001b[0mhandle\u001b[0m\u001b[0;34m,\u001b[0m\u001b[0;34m\u001b[0m\u001b[0;34m\u001b[0m\u001b[0m\n\u001b[1;32m    875\u001b[0m                 \u001b[0mioargs\u001b[0m\u001b[0;34m.\u001b[0m\u001b[0mmode\u001b[0m\u001b[0;34m,\u001b[0m\u001b[0;34m\u001b[0m\u001b[0;34m\u001b[0m\u001b[0m\n",
            "\u001b[0;31mFileNotFoundError\u001b[0m: [Errno 2] No such file or directory: 'stores.csv'"
          ]
        }
      ],
      "source": [
        "df_stores = pd.read_csv(\"stores.csv\")\n",
        "df_oil = pd.read_csv(\"oil.csv\")\n",
        "df_txn = pd.read_csv(\"transactions.csv\")\n",
        "df_train = pd.read_csv(\"train.csv\")\n",
        "df_holidays = pd.read_csv(\"holidays_events.csv\")\n"
      ]
    },
    {
      "cell_type": "markdown",
      "id": "6de2b6b0",
      "metadata": {
        "id": "6de2b6b0"
      },
      "source": [
        "Dropping Transfered holidays"
      ]
    },
    {
      "cell_type": "code",
      "execution_count": null,
      "id": "e882eeba",
      "metadata": {
        "id": "e882eeba"
      },
      "outputs": [],
      "source": [
        "df_holidays = df_holidays[df_holidays[\"transferred\"] != True]"
      ]
    },
    {
      "cell_type": "code",
      "execution_count": null,
      "id": "296cc486",
      "metadata": {
        "id": "296cc486"
      },
      "outputs": [],
      "source": [
        "df_holidays[\"transferred\"].value_counts()"
      ]
    },
    {
      "cell_type": "code",
      "execution_count": null,
      "id": "13e2f6ca",
      "metadata": {
        "id": "13e2f6ca"
      },
      "outputs": [],
      "source": [
        "df_holidays.drop(\"transferred\",axis=1,inplace=True)"
      ]
    },
    {
      "cell_type": "code",
      "execution_count": null,
      "id": "d55bc701",
      "metadata": {
        "id": "d55bc701"
      },
      "outputs": [],
      "source": [
        "df_holidays.head()"
      ]
    },
    {
      "cell_type": "markdown",
      "id": "8c8c3e18",
      "metadata": {
        "id": "8c8c3e18"
      },
      "source": [
        "Dropping Description"
      ]
    },
    {
      "cell_type": "code",
      "execution_count": null,
      "id": "ddca63a0",
      "metadata": {
        "id": "ddca63a0"
      },
      "outputs": [],
      "source": [
        "df_holidays.drop(\"description\",axis=1,inplace=True)\n",
        "df_holidays.head()"
      ]
    },
    {
      "cell_type": "code",
      "execution_count": null,
      "id": "40325a31",
      "metadata": {
        "id": "40325a31"
      },
      "outputs": [],
      "source": [
        "df_txn.head()"
      ]
    },
    {
      "cell_type": "markdown",
      "id": "f1d8601e",
      "metadata": {
        "id": "f1d8601e"
      },
      "source": []
    },
    {
      "cell_type": "code",
      "execution_count": null,
      "id": "5f700a33",
      "metadata": {
        "id": "5f700a33"
      },
      "outputs": [],
      "source": [
        "df_oil.describe()"
      ]
    },
    {
      "cell_type": "markdown",
      "id": "0b186879",
      "metadata": {
        "id": "0b186879"
      },
      "source": [
        "Adding All dates in range and interpolating in oil data\n"
      ]
    },
    {
      "cell_type": "code",
      "execution_count": null,
      "id": "640151cf",
      "metadata": {
        "id": "640151cf"
      },
      "outputs": [],
      "source": [
        "\n",
        "df_oil.head()\n"
      ]
    },
    {
      "cell_type": "code",
      "execution_count": null,
      "id": "72165726",
      "metadata": {
        "id": "72165726"
      },
      "outputs": [],
      "source": [
        "df_oil['date'] = pd.to_datetime(df_oil['date'])\n",
        "df_oil.set_index('date',inplace=True)\n",
        "df_oil = df_oil.reindex(pd.date_range(start=df_oil.index.min(), end=df_oil.index.max(), freq='D'))\n",
        "df_oil['dcoilwtico'] = df_oil['dcoilwtico'].interpolate()"
      ]
    },
    {
      "cell_type": "code",
      "execution_count": null,
      "id": "53654f1b",
      "metadata": {
        "id": "53654f1b"
      },
      "outputs": [],
      "source": [
        "df_oil.head()"
      ]
    },
    {
      "cell_type": "code",
      "execution_count": null,
      "id": "23faee51",
      "metadata": {
        "id": "23faee51"
      },
      "outputs": [],
      "source": [
        "df_oil.isnull().sum()\n"
      ]
    },
    {
      "cell_type": "code",
      "execution_count": null,
      "id": "1f40edb1",
      "metadata": {
        "id": "1f40edb1"
      },
      "outputs": [],
      "source": [
        "df_oil['dcoilwtico'] = df_oil['dcoilwtico'].interpolate(limit_direction='both')\n"
      ]
    },
    {
      "cell_type": "code",
      "execution_count": null,
      "id": "7a1e4e4e",
      "metadata": {
        "id": "7a1e4e4e"
      },
      "outputs": [],
      "source": [
        "df_oil.isnull().sum()"
      ]
    },
    {
      "cell_type": "code",
      "execution_count": null,
      "id": "7f62df1c",
      "metadata": {
        "id": "7f62df1c"
      },
      "outputs": [],
      "source": [
        "df_oil.head()"
      ]
    },
    {
      "cell_type": "code",
      "execution_count": null,
      "id": "ced0bced",
      "metadata": {
        "id": "ced0bced"
      },
      "outputs": [],
      "source": [
        "import matplotlib.pyplot as plt\n"
      ]
    },
    {
      "cell_type": "code",
      "execution_count": null,
      "id": "a6c424a4",
      "metadata": {
        "id": "a6c424a4"
      },
      "outputs": [],
      "source": [
        "a=df_oil.index\n",
        "a"
      ]
    },
    {
      "cell_type": "code",
      "execution_count": null,
      "id": "75580369",
      "metadata": {
        "id": "75580369"
      },
      "outputs": [],
      "source": [
        "plt.xlabel(\"DateRange\")\n",
        "plt.ylabel(\"Oil Prices \")\n",
        "plt.title(\"Oil Prices in Ecuador\")\n",
        "plt.plot(a,df_oil.dcoilwtico)"
      ]
    },
    {
      "cell_type": "code",
      "execution_count": null,
      "id": "9d189585",
      "metadata": {
        "id": "9d189585"
      },
      "outputs": [],
      "source": [
        "df_oil_raw = pd.read_csv(\"oil.csv\")\n",
        "df_oil_raw.head()"
      ]
    },
    {
      "cell_type": "code",
      "execution_count": null,
      "id": "afb6123c",
      "metadata": {
        "id": "afb6123c"
      },
      "outputs": [],
      "source": [
        "plt.plot(df_oil_raw.date,df_oil_raw.dcoilwtico)"
      ]
    },
    {
      "cell_type": "code",
      "execution_count": null,
      "id": "f1e56c70",
      "metadata": {
        "id": "f1e56c70"
      },
      "outputs": [],
      "source": [
        "df_oil"
      ]
    },
    {
      "cell_type": "code",
      "execution_count": null,
      "id": "bfcc58bf",
      "metadata": {
        "id": "bfcc58bf"
      },
      "outputs": [],
      "source": [
        "df_oil=df_oil.reset_index()\n",
        "df_oil"
      ]
    },
    {
      "cell_type": "code",
      "execution_count": null,
      "id": "76fa32a9",
      "metadata": {
        "id": "76fa32a9"
      },
      "outputs": [],
      "source": [
        "df_oil"
      ]
    },
    {
      "cell_type": "code",
      "execution_count": null,
      "id": "3727a629",
      "metadata": {
        "id": "3727a629"
      },
      "outputs": [],
      "source": [
        "# df_oil.drop('level_0',axis=1)"
      ]
    },
    {
      "cell_type": "code",
      "execution_count": null,
      "id": "c6706769",
      "metadata": {
        "id": "c6706769"
      },
      "outputs": [],
      "source": [
        "df_oil.columns=['date','dcoilwtico']\n",
        "df_oil.head()"
      ]
    },
    {
      "cell_type": "code",
      "execution_count": null,
      "id": "9f4dbaa6",
      "metadata": {
        "id": "9f4dbaa6"
      },
      "outputs": [],
      "source": [
        "df_oil.head()"
      ]
    },
    {
      "cell_type": "code",
      "execution_count": null,
      "id": "1d0605a7",
      "metadata": {
        "id": "1d0605a7"
      },
      "outputs": [],
      "source": [
        "df_train.head()"
      ]
    },
    {
      "cell_type": "code",
      "execution_count": null,
      "id": "faa6669e",
      "metadata": {
        "id": "faa6669e"
      },
      "outputs": [],
      "source": [
        "df_train.dtypes"
      ]
    },
    {
      "cell_type": "code",
      "execution_count": null,
      "id": "d1872055",
      "metadata": {
        "id": "d1872055"
      },
      "outputs": [],
      "source": [
        "df_oil['date'] = pd.to_datetime(df_oil['date'])\n",
        "df_train['date'] = pd.to_datetime(df_train['date'])\n"
      ]
    },
    {
      "cell_type": "code",
      "execution_count": null,
      "id": "34f4338e",
      "metadata": {
        "id": "34f4338e"
      },
      "outputs": [],
      "source": [
        "df_train_new= pd.merge(df_train,df_oil,on='date')\n",
        "df_train_new.head()"
      ]
    },
    {
      "cell_type": "code",
      "execution_count": null,
      "id": "8c96f754",
      "metadata": {
        "id": "8c96f754"
      },
      "outputs": [],
      "source": [
        "df_txn.head()"
      ]
    },
    {
      "cell_type": "code",
      "execution_count": null,
      "id": "680c33f4",
      "metadata": {
        "id": "680c33f4"
      },
      "outputs": [],
      "source": [
        "df_txn.dtypes"
      ]
    },
    {
      "cell_type": "code",
      "execution_count": null,
      "id": "a8fa0faa",
      "metadata": {
        "id": "a8fa0faa"
      },
      "outputs": [],
      "source": [
        "df_train_new.dtypes"
      ]
    },
    {
      "cell_type": "code",
      "execution_count": null,
      "id": "71846495",
      "metadata": {
        "id": "71846495"
      },
      "outputs": [],
      "source": [
        "\n",
        "df_txn['date'] = pd.to_datetime(df_txn['date'])\n",
        "df_train_new=pd.merge(df_train_new,df_txn,on=['store_nbr','date'])\n"
      ]
    },
    {
      "cell_type": "code",
      "execution_count": null,
      "id": "0ce77dbe",
      "metadata": {
        "id": "0ce77dbe"
      },
      "outputs": [],
      "source": [
        "df_train_new.head()"
      ]
    },
    {
      "cell_type": "code",
      "execution_count": null,
      "id": "fe06d61f",
      "metadata": {
        "id": "fe06d61f"
      },
      "outputs": [],
      "source": [
        "df_holidays"
      ]
    },
    {
      "cell_type": "code",
      "execution_count": null,
      "id": "f4db90d2",
      "metadata": {
        "id": "f4db90d2"
      },
      "outputs": [],
      "source": [
        "df_stores"
      ]
    },
    {
      "cell_type": "code",
      "execution_count": null,
      "id": "98be019d",
      "metadata": {
        "id": "98be019d"
      },
      "outputs": [],
      "source": [
        "df_test = pd.read_csv(\"test.csv\")\n",
        "df_test.tail()"
      ]
    },
    {
      "cell_type": "code",
      "execution_count": null,
      "id": "41c43c31",
      "metadata": {
        "id": "41c43c31"
      },
      "outputs": [],
      "source": [
        "df_train_new"
      ]
    },
    {
      "cell_type": "code",
      "execution_count": null,
      "id": "f29aa571",
      "metadata": {
        "id": "f29aa571"
      },
      "outputs": [],
      "source": [
        "pip install statsmodels"
      ]
    },
    {
      "cell_type": "code",
      "execution_count": null,
      "id": "999c2ca1",
      "metadata": {
        "id": "999c2ca1"
      },
      "outputs": [],
      "source": [
        "from statsmodels.tsa.arima.model import ARIMA\n"
      ]
    },
    {
      "cell_type": "code",
      "execution_count": null,
      "id": "352989ba",
      "metadata": {
        "id": "352989ba"
      },
      "outputs": [],
      "source": [
        "df_train_new.set_index('date', inplace=True)"
      ]
    },
    {
      "cell_type": "code",
      "execution_count": null,
      "id": "8ee718f1",
      "metadata": {
        "id": "8ee718f1"
      },
      "outputs": [],
      "source": [
        "df_train_new.head()"
      ]
    },
    {
      "cell_type": "code",
      "execution_count": null,
      "id": "c56d40ce",
      "metadata": {
        "id": "c56d40ce"
      },
      "outputs": [],
      "source": [
        "model = ARIMA(df_train_new['sales'], order=(1,1,1))\n",
        "model_fit = model.fit()"
      ]
    },
    {
      "cell_type": "markdown",
      "id": "56bfafa7",
      "metadata": {
        "id": "56bfafa7"
      },
      "source": [
        "__EXIT__"
      ]
    }
  ],
  "metadata": {
    "kernelspec": {
      "display_name": "Python 3",
      "name": "python3"
    },
    "language_info": {
      "codemirror_mode": {
        "name": "ipython",
        "version": 3
      },
      "file_extension": ".py",
      "mimetype": "text/x-python",
      "name": "python",
      "nbconvert_exporter": "python",
      "pygments_lexer": "ipython3",
      "version": "3.11.4"
    },
    "colab": {
      "provenance": [],
      "gpuType": "T4"
    },
    "accelerator": "GPU"
  },
  "nbformat": 4,
  "nbformat_minor": 5
}